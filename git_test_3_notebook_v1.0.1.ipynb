{
 "cells": [
  {
   "cell_type": "markdown",
   "id": "300b0bf6-c4ed-4ffc-af22-9ef0bbf8d36a",
   "metadata": {},
   "source": [
    "# This is the very first line."
   ]
  }
 ],
 "metadata": {
  "kernelspec": {
   "display_name": "Python 3 (ipykernel)",
   "language": "python",
   "name": "python3"
  },
  "language_info": {
   "codemirror_mode": {
    "name": "ipython",
    "version": 3
   },
   "file_extension": ".py",
   "mimetype": "text/x-python",
   "name": "python",
   "nbconvert_exporter": "python",
   "pygments_lexer": "ipython3",
   "version": "3.10.6"
  }
 },
 "nbformat": 4,
 "nbformat_minor": 5
}
